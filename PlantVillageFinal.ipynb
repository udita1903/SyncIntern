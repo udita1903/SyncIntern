{
  "nbformat": 4,
  "nbformat_minor": 0,
  "metadata": {
    "colab": {
      "provenance": [],
      "gpuType": "T4",
      "authorship_tag": "ABX9TyPxH2415YD2xQPEwK+QL9li",
      "include_colab_link": true
    },
    "kernelspec": {
      "name": "python3",
      "display_name": "Python 3"
    },
    "language_info": {
      "name": "python"
    },
    "accelerator": "GPU"
  },
  "cells": [
    {
      "cell_type": "markdown",
      "metadata": {
        "id": "view-in-github",
        "colab_type": "text"
      },
      "source": [
        "<a href=\"https://colab.research.google.com/github/udita1903/SyncIntern/blob/main/PlantVillageFinal.ipynb\" target=\"_parent\"><img src=\"https://colab.research.google.com/assets/colab-badge.svg\" alt=\"Open In Colab\"/></a>"
      ]
    },
    {
      "cell_type": "code",
      "execution_count": null,
      "metadata": {
        "id": "9Q6Bs4gElVrA"
      },
      "outputs": [],
      "source": [
        "import numpy as np\n",
        "import tensorflow as tf\n",
        "import os\n",
        "from tensorflow.keras.preprocessing.image import ImageDataGenerator\n"
      ]
    },
    {
      "cell_type": "code",
      "source": [
        "import zipfile\n",
        "zipfile=tf.keras.utils.get_file(origin='https://storage.googleapis.com/plantdata/PlantVillage.zip',fname='PlantVillage.zip',extract=True)"
      ],
      "metadata": {
        "colab": {
          "base_uri": "https://localhost:8080/"
        },
        "id": "XZfA22amlpNj",
        "outputId": "cefcbd6d-bf12-4e13-c7f1-4aefaa51976b"
      },
      "execution_count": null,
      "outputs": [
        {
          "output_type": "stream",
          "name": "stdout",
          "text": [
            "Downloading data from https://storage.googleapis.com/plantdata/PlantVillage.zip\n",
            "856839084/856839084 [==============================] - 29s 0us/step\n"
          ]
        }
      ]
    },
    {
      "cell_type": "code",
      "source": [
        "#creating the validation and training directory\n",
        "data=os.path.join(os.path.dirname(zipfile),'PlantVillage') #os.path.join is to join only paths so now get the path of the zipfile\n",
        "train_dir=os.path.join(data,'train')\n",
        "validation_dir=os.path.join(data,'validation')\n"
      ],
      "metadata": {
        "id": "cd_-GW3CmipL"
      },
      "execution_count": null,
      "outputs": []
    },
    {
      "cell_type": "code",
      "source": [
        "#counting number of files in training and validation dir\n",
        "\n",
        "def count(dir,counter=0):\n",
        "  for pack in os.walk(dir):\n",
        "    for file in pack[2]:\n",
        "      counter+=1\n",
        "  return counter\n",
        "\n",
        "print(\"Training directory contents : \"+str(count(train_dir)))\n",
        "print(\"Training directory contents : \"+str(count(validation_dir)))\n"
      ],
      "metadata": {
        "colab": {
          "base_uri": "https://localhost:8080/"
        },
        "id": "HuoZlg4UndeP",
        "outputId": "6e98e938-2d6e-4652-be8c-011f66183622"
      },
      "execution_count": null,
      "outputs": [
        {
          "output_type": "stream",
          "name": "stdout",
          "text": [
            "Training directory contents : 43444\n",
            "Training directory contents : 10861\n"
          ]
        }
      ]
    },
    {
      "cell_type": "code",
      "source": [
        "#build the training and validatio generators\n",
        "train_gen=ImageDataGenerator(rescale=1/255)\n",
        "validation_geb=ImageDataGenerator(rescale=1/255)\n",
        "\n",
        "train_generator=train_gen.flow_from_directory(\n",
        "    train_dir,\n",
        "    target_size=(256,256),\n",
        "    batch_size=64,\n",
        "    class_mode='categorical',\n",
        "\n",
        ")\n",
        "validation_generator=train_gen.flow_from_directory(\n",
        "    validation_dir,\n",
        "    target_size=(256,256),\n",
        "    batch_size=64,\n",
        "    class_mode='categorical',\n",
        "\n",
        ")"
      ],
      "metadata": {
        "colab": {
          "base_uri": "https://localhost:8080/"
        },
        "id": "IT326TrToS5L",
        "outputId": "8c74761e-de82-4eb1-a86a-b29f6fcc4c29"
      },
      "execution_count": null,
      "outputs": [
        {
          "output_type": "stream",
          "name": "stdout",
          "text": [
            "Found 43444 images belonging to 38 classes.\n",
            "Found 10861 images belonging to 38 classes.\n"
          ]
        }
      ]
    },
    {
      "cell_type": "code",
      "source": [
        "#building the model\n",
        "model=tf.keras.Sequential([\n",
        "    tf.keras.layers.Conv2D(32,(3,3),activation='relu',input_shape=(256,256,3)),\n",
        "    tf.keras.layers.MaxPooling2D(2,2),\n",
        "\n",
        "    tf.keras.layers.Conv2D(64,(3,3),activation='relu'),\n",
        "    tf.keras.layers.MaxPooling2D(2,2),\n",
        "\n",
        "    tf.keras.layers.Conv2D(128,(3,3),activation='relu'),\n",
        "    tf.keras.layers.MaxPooling2D(2,2),\n",
        "\n",
        "    tf.keras.layers.Conv2D(256,(3,3),activation='relu'),\n",
        "    tf.keras.layers.MaxPooling2D(2,2),\n",
        "\n",
        "    tf.keras.layers.Conv2D(512,(3,3),activation='relu'),\n",
        "    tf.keras.layers.MaxPooling2D(2,2),\n",
        "\n",
        "    tf.keras.layers.Flatten(),\n",
        "    tf.keras.layers.Dense(512,activation='relu'),\n",
        "    tf.keras.layers.Dense(38,activation='softmax')\n",
        "\n",
        "])"
      ],
      "metadata": {
        "id": "UZASk-5WqMYz"
      },
      "execution_count": null,
      "outputs": []
    },
    {
      "cell_type": "code",
      "source": [
        "model.compile(loss='categorical_crossentropy',\n",
        "               optimizer='Adam',\n",
        "               metrics=['accuracy']\n",
        "               )\n",
        "model.summary()"
      ],
      "metadata": {
        "colab": {
          "base_uri": "https://localhost:8080/"
        },
        "id": "DzWVmlHtrw8H",
        "outputId": "f8c1b854-4914-4ae2-a4d9-d03c21fea05d"
      },
      "execution_count": null,
      "outputs": [
        {
          "output_type": "stream",
          "name": "stdout",
          "text": [
            "Model: \"sequential\"\n",
            "_________________________________________________________________\n",
            " Layer (type)                Output Shape              Param #   \n",
            "=================================================================\n",
            " conv2d (Conv2D)             (None, 254, 254, 32)      896       \n",
            "                                                                 \n",
            " max_pooling2d (MaxPooling2D  (None, 127, 127, 32)     0         \n",
            " )                                                               \n",
            "                                                                 \n",
            " conv2d_1 (Conv2D)           (None, 125, 125, 64)      18496     \n",
            "                                                                 \n",
            " max_pooling2d_1 (MaxPooling  (None, 62, 62, 64)       0         \n",
            " 2D)                                                             \n",
            "                                                                 \n",
            " conv2d_2 (Conv2D)           (None, 60, 60, 128)       73856     \n",
            "                                                                 \n",
            " max_pooling2d_2 (MaxPooling  (None, 30, 30, 128)      0         \n",
            " 2D)                                                             \n",
            "                                                                 \n",
            " conv2d_3 (Conv2D)           (None, 28, 28, 256)       295168    \n",
            "                                                                 \n",
            " max_pooling2d_3 (MaxPooling  (None, 14, 14, 256)      0         \n",
            " 2D)                                                             \n",
            "                                                                 \n",
            " conv2d_4 (Conv2D)           (None, 12, 12, 512)       1180160   \n",
            "                                                                 \n",
            " max_pooling2d_4 (MaxPooling  (None, 6, 6, 512)        0         \n",
            " 2D)                                                             \n",
            "                                                                 \n",
            " flatten (Flatten)           (None, 18432)             0         \n",
            "                                                                 \n",
            " dense (Dense)               (None, 512)               9437696   \n",
            "                                                                 \n",
            " dense_1 (Dense)             (None, 38)                19494     \n",
            "                                                                 \n",
            "=================================================================\n",
            "Total params: 11,025,766\n",
            "Trainable params: 11,025,766\n",
            "Non-trainable params: 0\n",
            "_________________________________________________________________\n"
          ]
        }
      ]
    },
    {
      "cell_type": "code",
      "source": [
        "history=model.fit(train_generator,\n",
        "          steps_per_epoch=train_generator.samples//train_generator.batch_size,\n",
        "          epochs=5,\n",
        "          verbose=1,\n",
        "\n",
        "          validation_data=validation_generator,\n",
        "          validation_steps=validation_generator.samples//validation_generator.batch_size\n",
        "          )"
      ],
      "metadata": {
        "colab": {
          "base_uri": "https://localhost:8080/"
        },
        "id": "juzyuJKBsX1g",
        "outputId": "4b46d46c-3d68-4bc4-d800-aafd672b707d"
      },
      "execution_count": null,
      "outputs": [
        {
          "output_type": "stream",
          "name": "stdout",
          "text": [
            "Epoch 1/5\n",
            "678/678 [==============================] - 184s 248ms/step - loss: 1.2716 - accuracy: 0.6359 - val_loss: 0.4527 - val_accuracy: 0.8542\n",
            "Epoch 2/5\n",
            "678/678 [==============================] - 166s 244ms/step - loss: 0.3683 - accuracy: 0.8822 - val_loss: 0.2817 - val_accuracy: 0.9092\n",
            "Epoch 3/5\n",
            "678/678 [==============================] - 150s 221ms/step - loss: 0.2052 - accuracy: 0.9316 - val_loss: 0.3314 - val_accuracy: 0.8920\n",
            "Epoch 4/5\n",
            "678/678 [==============================] - 150s 221ms/step - loss: 0.1349 - accuracy: 0.9542 - val_loss: 0.2445 - val_accuracy: 0.9265\n",
            "Epoch 5/5\n",
            "678/678 [==============================] - 165s 244ms/step - loss: 0.1003 - accuracy: 0.9657 - val_loss: 0.1851 - val_accuracy: 0.9446\n"
          ]
        }
      ]
    },
    {
      "cell_type": "code",
      "source": [
        "\n",
        "loss,accuracy=model.evaluate(validation_generator)\n",
        "print(\"LOSS : \"+str(loss))\n",
        "print(\"TEST : \"+str(accuracy))\n",
        "\n"
      ],
      "metadata": {
        "colab": {
          "base_uri": "https://localhost:8080/"
        },
        "id": "nGTiT62wtKNn",
        "outputId": "c29f61d3-da21-4627-9fd6-7f75e8ce001d"
      },
      "execution_count": null,
      "outputs": [
        {
          "output_type": "stream",
          "name": "stdout",
          "text": [
            "170/170 [==============================] - 29s 168ms/step - loss: 0.1850 - accuracy: 0.9445\n",
            "LOSS : 0.18498647212982178\n",
            "TEST : 0.9444802403450012\n"
          ]
        }
      ]
    },
    {
      "cell_type": "code",
      "source": [
        "predictions=model.predict(validation_generator)\n"
      ],
      "metadata": {
        "colab": {
          "base_uri": "https://localhost:8080/"
        },
        "id": "zjy3BFo8uYjT",
        "outputId": "cfa3568e-2ad7-4f1b-e813-f8a6c3ef7b9c"
      },
      "execution_count": null,
      "outputs": [
        {
          "output_type": "stream",
          "name": "stdout",
          "text": [
            "170/170 [==============================] - 29s 169ms/step\n"
          ]
        }
      ]
    },
    {
      "cell_type": "code",
      "source": [
        "!!wget https://github.com/obeshor/Plant-Diseases-Detector/archive/master.zip\n",
        "!unzip master.zip;"
      ],
      "metadata": {
        "colab": {
          "base_uri": "https://localhost:8080/"
        },
        "id": "bJcLFpbj2hA0",
        "outputId": "4f584eb6-d726-40a2-ecc6-c9afb10211b8"
      },
      "execution_count": null,
      "outputs": [
        {
          "output_type": "stream",
          "name": "stdout",
          "text": [
            "Archive:  master.zip\n",
            "33dc8985c943175a7a1301fe034c01d69bebb8cf\n",
            "   creating: Plant-Diseases-Detector-master/\n",
            "   creating: Plant-Diseases-Detector-master/GreenDoctor/\n",
            "  inflating: Plant-Diseases-Detector-master/GreenDoctor/.gitignore  \n",
            "   creating: Plant-Diseases-Detector-master/GreenDoctor/.idea/\n",
            "   creating: Plant-Diseases-Detector-master/GreenDoctor/.idea/codeStyles/\n",
            "  inflating: Plant-Diseases-Detector-master/GreenDoctor/.idea/codeStyles/Project.xml  \n",
            "  inflating: Plant-Diseases-Detector-master/GreenDoctor/.idea/codeStyles/codeStyleConfig.xml  \n",
            "  inflating: Plant-Diseases-Detector-master/GreenDoctor/.idea/encodings.xml  \n",
            "  inflating: Plant-Diseases-Detector-master/GreenDoctor/.idea/jarRepositories.xml  \n",
            "  inflating: Plant-Diseases-Detector-master/GreenDoctor/.idea/misc.xml  \n",
            "  inflating: Plant-Diseases-Detector-master/GreenDoctor/.idea/runConfigurations.xml  \n",
            "  inflating: Plant-Diseases-Detector-master/GreenDoctor/.idea/vcs.xml  \n",
            "   creating: Plant-Diseases-Detector-master/GreenDoctor/app/\n",
            "  inflating: Plant-Diseases-Detector-master/GreenDoctor/app/build.gradle  \n",
            "  inflating: Plant-Diseases-Detector-master/GreenDoctor/app/proguard-rules.pro  \n",
            "   creating: Plant-Diseases-Detector-master/GreenDoctor/app/src/\n",
            "   creating: Plant-Diseases-Detector-master/GreenDoctor/app/src/androidTest/\n",
            "   creating: Plant-Diseases-Detector-master/GreenDoctor/app/src/androidTest/java/\n",
            "   creating: Plant-Diseases-Detector-master/GreenDoctor/app/src/androidTest/java/isomora/\n",
            "   creating: Plant-Diseases-Detector-master/GreenDoctor/app/src/androidTest/java/isomora/com/\n",
            "   creating: Plant-Diseases-Detector-master/GreenDoctor/app/src/androidTest/java/isomora/com/greendoctor/\n",
            "  inflating: Plant-Diseases-Detector-master/GreenDoctor/app/src/androidTest/java/isomora/com/greendoctor/ExampleInstrumentedTest.kt  \n",
            "   creating: Plant-Diseases-Detector-master/GreenDoctor/app/src/main/\n",
            "  inflating: Plant-Diseases-Detector-master/GreenDoctor/app/src/main/AndroidManifest.xml  \n",
            "   creating: Plant-Diseases-Detector-master/GreenDoctor/app/src/main/assets/\n",
            "  inflating: Plant-Diseases-Detector-master/GreenDoctor/app/src/main/assets/plant_disease_model.tflite  \n",
            "  inflating: Plant-Diseases-Detector-master/GreenDoctor/app/src/main/assets/plant_labels.txt  \n",
            "  inflating: Plant-Diseases-Detector-master/GreenDoctor/app/src/main/assets/soybean.JPG  \n",
            "  inflating: Plant-Diseases-Detector-master/GreenDoctor/app/src/main/ic_launcher-web.png  \n",
            "   creating: Plant-Diseases-Detector-master/GreenDoctor/app/src/main/java/\n",
            "   creating: Plant-Diseases-Detector-master/GreenDoctor/app/src/main/java/isomora/\n",
            "   creating: Plant-Diseases-Detector-master/GreenDoctor/app/src/main/java/isomora/com/\n",
            "   creating: Plant-Diseases-Detector-master/GreenDoctor/app/src/main/java/isomora/com/greendoctor/\n",
            "  inflating: Plant-Diseases-Detector-master/GreenDoctor/app/src/main/java/isomora/com/greendoctor/Classifier.kt  \n",
            "  inflating: Plant-Diseases-Detector-master/GreenDoctor/app/src/main/java/isomora/com/greendoctor/MainActivity.kt  \n",
            "   creating: Plant-Diseases-Detector-master/GreenDoctor/app/src/main/res/\n",
            "   creating: Plant-Diseases-Detector-master/GreenDoctor/app/src/main/res/drawable-v24/\n",
            "  inflating: Plant-Diseases-Detector-master/GreenDoctor/app/src/main/res/drawable-v24/ic_launcher_foreground.xml  \n",
            "   creating: Plant-Diseases-Detector-master/GreenDoctor/app/src/main/res/drawable/\n",
            "  inflating: Plant-Diseases-Detector-master/GreenDoctor/app/src/main/res/drawable/ic_launcher_background.xml  \n",
            "   creating: Plant-Diseases-Detector-master/GreenDoctor/app/src/main/res/layout/\n",
            "  inflating: Plant-Diseases-Detector-master/GreenDoctor/app/src/main/res/layout/activity_main.xml  \n",
            "   creating: Plant-Diseases-Detector-master/GreenDoctor/app/src/main/res/mipmap-anydpi-v26/\n",
            "  inflating: Plant-Diseases-Detector-master/GreenDoctor/app/src/main/res/mipmap-anydpi-v26/ic_launcher.xml  \n",
            "  inflating: Plant-Diseases-Detector-master/GreenDoctor/app/src/main/res/mipmap-anydpi-v26/ic_launcher_round.xml  \n",
            "   creating: Plant-Diseases-Detector-master/GreenDoctor/app/src/main/res/mipmap-hdpi/\n",
            " extracting: Plant-Diseases-Detector-master/GreenDoctor/app/src/main/res/mipmap-hdpi/ic_launcher.png  \n",
            "  inflating: Plant-Diseases-Detector-master/GreenDoctor/app/src/main/res/mipmap-hdpi/ic_launcher_foreground.png  \n",
            " extracting: Plant-Diseases-Detector-master/GreenDoctor/app/src/main/res/mipmap-hdpi/ic_launcher_round.png  \n",
            "   creating: Plant-Diseases-Detector-master/GreenDoctor/app/src/main/res/mipmap-mdpi/\n",
            " extracting: Plant-Diseases-Detector-master/GreenDoctor/app/src/main/res/mipmap-mdpi/ic_launcher.png  \n",
            "  inflating: Plant-Diseases-Detector-master/GreenDoctor/app/src/main/res/mipmap-mdpi/ic_launcher_foreground.png  \n",
            " extracting: Plant-Diseases-Detector-master/GreenDoctor/app/src/main/res/mipmap-mdpi/ic_launcher_round.png  \n",
            "   creating: Plant-Diseases-Detector-master/GreenDoctor/app/src/main/res/mipmap-xhdpi/\n",
            " extracting: Plant-Diseases-Detector-master/GreenDoctor/app/src/main/res/mipmap-xhdpi/ic_launcher.png  \n",
            "  inflating: Plant-Diseases-Detector-master/GreenDoctor/app/src/main/res/mipmap-xhdpi/ic_launcher_foreground.png  \n",
            " extracting: Plant-Diseases-Detector-master/GreenDoctor/app/src/main/res/mipmap-xhdpi/ic_launcher_round.png  \n",
            "   creating: Plant-Diseases-Detector-master/GreenDoctor/app/src/main/res/mipmap-xxhdpi/\n",
            "  inflating: Plant-Diseases-Detector-master/GreenDoctor/app/src/main/res/mipmap-xxhdpi/ic_launcher.png  \n",
            "  inflating: Plant-Diseases-Detector-master/GreenDoctor/app/src/main/res/mipmap-xxhdpi/ic_launcher_foreground.png  \n",
            " extracting: Plant-Diseases-Detector-master/GreenDoctor/app/src/main/res/mipmap-xxhdpi/ic_launcher_round.png  \n",
            "   creating: Plant-Diseases-Detector-master/GreenDoctor/app/src/main/res/mipmap-xxxhdpi/\n",
            "  inflating: Plant-Diseases-Detector-master/GreenDoctor/app/src/main/res/mipmap-xxxhdpi/ic_launcher.png  \n",
            "  inflating: Plant-Diseases-Detector-master/GreenDoctor/app/src/main/res/mipmap-xxxhdpi/ic_launcher_foreground.png  \n",
            " extracting: Plant-Diseases-Detector-master/GreenDoctor/app/src/main/res/mipmap-xxxhdpi/ic_launcher_round.png  \n",
            "   creating: Plant-Diseases-Detector-master/GreenDoctor/app/src/main/res/values/\n",
            "  inflating: Plant-Diseases-Detector-master/GreenDoctor/app/src/main/res/values/colors.xml  \n",
            "  inflating: Plant-Diseases-Detector-master/GreenDoctor/app/src/main/res/values/ic_launcher_background.xml  \n",
            "  inflating: Plant-Diseases-Detector-master/GreenDoctor/app/src/main/res/values/strings.xml  \n",
            "  inflating: Plant-Diseases-Detector-master/GreenDoctor/app/src/main/res/values/styles.xml  \n",
            "   creating: Plant-Diseases-Detector-master/GreenDoctor/app/src/test/\n",
            "   creating: Plant-Diseases-Detector-master/GreenDoctor/app/src/test/java/\n",
            "   creating: Plant-Diseases-Detector-master/GreenDoctor/app/src/test/java/isomora/\n",
            "   creating: Plant-Diseases-Detector-master/GreenDoctor/app/src/test/java/isomora/com/\n",
            "   creating: Plant-Diseases-Detector-master/GreenDoctor/app/src/test/java/isomora/com/greendoctor/\n",
            "  inflating: Plant-Diseases-Detector-master/GreenDoctor/app/src/test/java/isomora/com/greendoctor/ExampleUnitTest.kt  \n",
            "  inflating: Plant-Diseases-Detector-master/GreenDoctor/build.gradle  \n",
            "  inflating: Plant-Diseases-Detector-master/GreenDoctor/gradle.properties  \n",
            "   creating: Plant-Diseases-Detector-master/GreenDoctor/gradle/\n",
            "   creating: Plant-Diseases-Detector-master/GreenDoctor/gradle/wrapper/\n",
            "  inflating: Plant-Diseases-Detector-master/GreenDoctor/gradle/wrapper/gradle-wrapper.jar  \n",
            "  inflating: Plant-Diseases-Detector-master/GreenDoctor/gradle/wrapper/gradle-wrapper.properties  \n",
            "  inflating: Plant-Diseases-Detector-master/GreenDoctor/gradlew  \n",
            "  inflating: Plant-Diseases-Detector-master/GreenDoctor/gradlew.bat  \n",
            " extracting: Plant-Diseases-Detector-master/GreenDoctor/settings.gradle  \n",
            "  inflating: Plant-Diseases-Detector-master/Plant_Diseases_Detection_with_TF2_V2.ipynb  \n",
            "  inflating: Plant-Diseases-Detector-master/Plant_Diseases_Detection_with_TF2_V4.ipynb  \n",
            "  inflating: Plant-Diseases-Detector-master/README.md  \n",
            "  inflating: Plant-Diseases-Detector-master/_config.yml  \n",
            "   creating: Plant-Diseases-Detector-master/assets/\n",
            "  inflating: Plant-Diseases-Detector-master/assets/PlantVillagefarmer.jpg  \n",
            "  inflating: Plant-Diseases-Detector-master/assets/detect_crop_disease_in_africa.jpg  \n",
            "  inflating: Plant-Diseases-Detector-master/assets/greendoctor.png  \n",
            "  inflating: Plant-Diseases-Detector-master/assets/over.png  \n",
            "  inflating: Plant-Diseases-Detector-master/categories.json  \n"
          ]
        }
      ]
    },
    {
      "cell_type": "code",
      "source": [
        "import json\n",
        "import numpy as np\n",
        "from google.colab import files\n",
        "from tensorflow.keras.utils import load_img, img_to_array\n",
        "\n",
        "# Load the categories.json file\n",
        "with open('Plant-Diseases-Detector-master/categories.json', 'r') as f:\n",
        "    cat_to_name = json.load(f)\n",
        "\n",
        "# Get the class labels from the categories.json file\n",
        "classes = list(cat_to_name.values())\n",
        "\n",
        "# Create a dictionary mapping class numbers to class labels\n",
        "class_mapping = {i: label for i, label in enumerate(classes)}\n",
        "\n",
        "# Upload the image file\n",
        "uploaded = files.upload()\n",
        "\n",
        "for f in uploaded.keys():\n",
        "    path = '/content/' + f\n",
        "    img = load_img(path, target_size=(256, 256))\n",
        "    x = img_to_array(img)\n",
        "    x /= 255\n",
        "\n",
        "    x = np.expand_dims(x, axis=0)\n",
        "    x = np.vstack([x])\n",
        "\n",
        "    # Use the model to predict the class probabilities\n",
        "    prediction = model.predict(x, batch_size=10)\n",
        "\n",
        "    # Get the predicted class label\n",
        "    predicted_class = np.argmax(prediction)\n",
        "\n",
        "    # Print the predicted class label\n",
        "    print(\"Predicted class:\", class_mapping[predicted_class])\n"
      ],
      "metadata": {
        "colab": {
          "base_uri": "https://localhost:8080/",
          "height": 103
        },
        "id": "g4StXRYIxVe7",
        "outputId": "87ad76ff-9e0d-4139-b1eb-50d8187beb86"
      },
      "execution_count": null,
      "outputs": [
        {
          "output_type": "display_data",
          "data": {
            "text/plain": [
              "<IPython.core.display.HTML object>"
            ],
            "text/html": [
              "\n",
              "     <input type=\"file\" id=\"files-73923c41-dcae-46fd-9030-f48d69704b2d\" name=\"files[]\" multiple disabled\n",
              "        style=\"border:none\" />\n",
              "     <output id=\"result-73923c41-dcae-46fd-9030-f48d69704b2d\">\n",
              "      Upload widget is only available when the cell has been executed in the\n",
              "      current browser session. Please rerun this cell to enable.\n",
              "      </output>\n",
              "      <script>// Copyright 2017 Google LLC\n",
              "//\n",
              "// Licensed under the Apache License, Version 2.0 (the \"License\");\n",
              "// you may not use this file except in compliance with the License.\n",
              "// You may obtain a copy of the License at\n",
              "//\n",
              "//      http://www.apache.org/licenses/LICENSE-2.0\n",
              "//\n",
              "// Unless required by applicable law or agreed to in writing, software\n",
              "// distributed under the License is distributed on an \"AS IS\" BASIS,\n",
              "// WITHOUT WARRANTIES OR CONDITIONS OF ANY KIND, either express or implied.\n",
              "// See the License for the specific language governing permissions and\n",
              "// limitations under the License.\n",
              "\n",
              "/**\n",
              " * @fileoverview Helpers for google.colab Python module.\n",
              " */\n",
              "(function(scope) {\n",
              "function span(text, styleAttributes = {}) {\n",
              "  const element = document.createElement('span');\n",
              "  element.textContent = text;\n",
              "  for (const key of Object.keys(styleAttributes)) {\n",
              "    element.style[key] = styleAttributes[key];\n",
              "  }\n",
              "  return element;\n",
              "}\n",
              "\n",
              "// Max number of bytes which will be uploaded at a time.\n",
              "const MAX_PAYLOAD_SIZE = 100 * 1024;\n",
              "\n",
              "function _uploadFiles(inputId, outputId) {\n",
              "  const steps = uploadFilesStep(inputId, outputId);\n",
              "  const outputElement = document.getElementById(outputId);\n",
              "  // Cache steps on the outputElement to make it available for the next call\n",
              "  // to uploadFilesContinue from Python.\n",
              "  outputElement.steps = steps;\n",
              "\n",
              "  return _uploadFilesContinue(outputId);\n",
              "}\n",
              "\n",
              "// This is roughly an async generator (not supported in the browser yet),\n",
              "// where there are multiple asynchronous steps and the Python side is going\n",
              "// to poll for completion of each step.\n",
              "// This uses a Promise to block the python side on completion of each step,\n",
              "// then passes the result of the previous step as the input to the next step.\n",
              "function _uploadFilesContinue(outputId) {\n",
              "  const outputElement = document.getElementById(outputId);\n",
              "  const steps = outputElement.steps;\n",
              "\n",
              "  const next = steps.next(outputElement.lastPromiseValue);\n",
              "  return Promise.resolve(next.value.promise).then((value) => {\n",
              "    // Cache the last promise value to make it available to the next\n",
              "    // step of the generator.\n",
              "    outputElement.lastPromiseValue = value;\n",
              "    return next.value.response;\n",
              "  });\n",
              "}\n",
              "\n",
              "/**\n",
              " * Generator function which is called between each async step of the upload\n",
              " * process.\n",
              " * @param {string} inputId Element ID of the input file picker element.\n",
              " * @param {string} outputId Element ID of the output display.\n",
              " * @return {!Iterable<!Object>} Iterable of next steps.\n",
              " */\n",
              "function* uploadFilesStep(inputId, outputId) {\n",
              "  const inputElement = document.getElementById(inputId);\n",
              "  inputElement.disabled = false;\n",
              "\n",
              "  const outputElement = document.getElementById(outputId);\n",
              "  outputElement.innerHTML = '';\n",
              "\n",
              "  const pickedPromise = new Promise((resolve) => {\n",
              "    inputElement.addEventListener('change', (e) => {\n",
              "      resolve(e.target.files);\n",
              "    });\n",
              "  });\n",
              "\n",
              "  const cancel = document.createElement('button');\n",
              "  inputElement.parentElement.appendChild(cancel);\n",
              "  cancel.textContent = 'Cancel upload';\n",
              "  const cancelPromise = new Promise((resolve) => {\n",
              "    cancel.onclick = () => {\n",
              "      resolve(null);\n",
              "    };\n",
              "  });\n",
              "\n",
              "  // Wait for the user to pick the files.\n",
              "  const files = yield {\n",
              "    promise: Promise.race([pickedPromise, cancelPromise]),\n",
              "    response: {\n",
              "      action: 'starting',\n",
              "    }\n",
              "  };\n",
              "\n",
              "  cancel.remove();\n",
              "\n",
              "  // Disable the input element since further picks are not allowed.\n",
              "  inputElement.disabled = true;\n",
              "\n",
              "  if (!files) {\n",
              "    return {\n",
              "      response: {\n",
              "        action: 'complete',\n",
              "      }\n",
              "    };\n",
              "  }\n",
              "\n",
              "  for (const file of files) {\n",
              "    const li = document.createElement('li');\n",
              "    li.append(span(file.name, {fontWeight: 'bold'}));\n",
              "    li.append(span(\n",
              "        `(${file.type || 'n/a'}) - ${file.size} bytes, ` +\n",
              "        `last modified: ${\n",
              "            file.lastModifiedDate ? file.lastModifiedDate.toLocaleDateString() :\n",
              "                                    'n/a'} - `));\n",
              "    const percent = span('0% done');\n",
              "    li.appendChild(percent);\n",
              "\n",
              "    outputElement.appendChild(li);\n",
              "\n",
              "    const fileDataPromise = new Promise((resolve) => {\n",
              "      const reader = new FileReader();\n",
              "      reader.onload = (e) => {\n",
              "        resolve(e.target.result);\n",
              "      };\n",
              "      reader.readAsArrayBuffer(file);\n",
              "    });\n",
              "    // Wait for the data to be ready.\n",
              "    let fileData = yield {\n",
              "      promise: fileDataPromise,\n",
              "      response: {\n",
              "        action: 'continue',\n",
              "      }\n",
              "    };\n",
              "\n",
              "    // Use a chunked sending to avoid message size limits. See b/62115660.\n",
              "    let position = 0;\n",
              "    do {\n",
              "      const length = Math.min(fileData.byteLength - position, MAX_PAYLOAD_SIZE);\n",
              "      const chunk = new Uint8Array(fileData, position, length);\n",
              "      position += length;\n",
              "\n",
              "      const base64 = btoa(String.fromCharCode.apply(null, chunk));\n",
              "      yield {\n",
              "        response: {\n",
              "          action: 'append',\n",
              "          file: file.name,\n",
              "          data: base64,\n",
              "        },\n",
              "      };\n",
              "\n",
              "      let percentDone = fileData.byteLength === 0 ?\n",
              "          100 :\n",
              "          Math.round((position / fileData.byteLength) * 100);\n",
              "      percent.textContent = `${percentDone}% done`;\n",
              "\n",
              "    } while (position < fileData.byteLength);\n",
              "  }\n",
              "\n",
              "  // All done.\n",
              "  yield {\n",
              "    response: {\n",
              "      action: 'complete',\n",
              "    }\n",
              "  };\n",
              "}\n",
              "\n",
              "scope.google = scope.google || {};\n",
              "scope.google.colab = scope.google.colab || {};\n",
              "scope.google.colab._files = {\n",
              "  _uploadFiles,\n",
              "  _uploadFilesContinue,\n",
              "};\n",
              "})(self);\n",
              "</script> "
            ]
          },
          "metadata": {}
        },
        {
          "output_type": "stream",
          "name": "stdout",
          "text": [
            "Saving 0b7270e2-a05c-45ea-9803-b4d3aa31ab18___FAM_B.Msls 1292.JPG to 0b7270e2-a05c-45ea-9803-b4d3aa31ab18___FAM_B.Msls 1292.JPG\n",
            "1/1 [==============================] - 0s 21ms/step\n",
            "Predicted class: Grape___Esca_(Black_Measles)\n"
          ]
        }
      ]
    },
    {
      "cell_type": "code",
      "source": [],
      "metadata": {
        "id": "CDTpntN72jd7"
      },
      "execution_count": null,
      "outputs": []
    }
  ]
}